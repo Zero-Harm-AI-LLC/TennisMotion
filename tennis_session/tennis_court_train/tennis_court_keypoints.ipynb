{
 "cells": [
  {
   "cell_type": "markdown",
   "id": "1c6282a3",
   "metadata": {},
   "source": [
    "# Getting Started\n",
    "**Make sure to clear the cell output before check into GitHub**\n",
    "## Setup environment\n",
    "If you don't have a .venv (Python 3.9) Python kernel environment in the top right items of this window, then the first thing to do is setup the Python environment kernel:\n",
    "- Go to View->Command Palette->Python: Create Environment... and run this command\n",
    "- Select this Python kernel in top right of this window as your running environment\n",
    "\n",
    "## Get the dataset\n",
    "For keypoints detection of the tennis court, we will need the dataset of tennis court and labels of the keypoints. "
   ]
  }
 ],
 "metadata": {
  "language_info": {
   "name": "python"
  }
 },
 "nbformat": 4,
 "nbformat_minor": 5
}
