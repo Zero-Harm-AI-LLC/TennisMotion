{
 "cells": [
  {
   "cell_type": "markdown",
   "id": "c505550b",
   "metadata": {},
   "source": [
    "# Getting Started\n",
    "**Make sure to clear the cell output before check into GitHub**\n",
    "## Setup environment\n",
    "If you don't have a .venv (Python 3.xx) Python kernel environment in the top right items of this window, then the first thing to do is setup the Python environment kernel:\n",
    "- Go to View->Command Palette->Python: Create Environment... and run this command\n",
    "- Select this Python kernel in top right of this window as your running environment\n",
    "\n",
    "## Get Dataset\n",
    "To training you need the dataset. The dataset for tennis ball can be found on Roboflow.\n",
    "On Roboflow you can search for tennis dataset here: https://universe.roboflow.com/search?q=tennis+ball+model+object+detection+model%3Ayolov5\n",
    "\n",
    "There are pretrained model with the dataset, so in some case if there is already a pretrained mdoel that is accurate enough for your use case, then you don't need to retrain the mdoel.]\n",
    "\n",
    "The dataset that is used in this project is: https://universe.roboflow.com/viren-dhanwani/tennis-ball-detection/dataset/6\n",
    "\n",
    "We will use YOLO5 model, which is not the latest YOLO model, however it is small and efficient to turn on a mobile device.\n",
    "\n",
    "- Create a Roboflow account and log in\n",
    "- Select \"Download dataset\" option\n",
    "- Select \"Show download code\" option and accept the terms of agreement, you might need to go back to previous step if this is the first time you accept the agreement\n",
    "- Copy the Jupyter code snipplet to below\n",
    "- Replace the api_key with your API key from Roboflow under \"Settings->API Keys\"\n",
    "\n",
    "Notes: When you run the first time, it might complained that you need a ipykernal environment as an error. Resolve the error by click on the Create Python Kernel environment. You can also go to View->Command Palette->Python: Create Environment..."
   ]
  },
  {
   "cell_type": "code",
   "execution_count": null,
   "id": "f2e2d0ed",
   "metadata": {},
   "outputs": [],
   "source": [
    "%pip install roboflow\n",
    "\n",
    "from roboflow import Roboflow\n",
    "rf = Roboflow(api_key=\"wNKC4X8SBzsq9OEpxrLC\")\n",
    "project = rf.workspace(\"viren-dhanwani\").project(\"tennis-ball-detection\")\n",
    "version = project.version(6)\n",
    "dataset = version.download(\"yolov5\")\n",
    "                "
   ]
  },
  {
   "cell_type": "markdown",
   "id": "89184aab",
   "metadata": {},
   "source": [
    "# Training\n",
    "We will training using YOLO model for object detection. YOLO is used since it is for object detection and tracking from frame to frame."
   ]
  }
 ],
 "metadata": {
  "kernelspec": {
   "display_name": ".venv",
   "language": "python",
   "name": "python3"
  },
  "language_info": {
   "codemirror_mode": {
    "name": "ipython",
    "version": 3
   },
   "file_extension": ".py",
   "mimetype": "text/x-python",
   "name": "python",
   "nbconvert_exporter": "python",
   "pygments_lexer": "ipython3",
   "version": "3.13.5"
  }
 },
 "nbformat": 4,
 "nbformat_minor": 5
}
